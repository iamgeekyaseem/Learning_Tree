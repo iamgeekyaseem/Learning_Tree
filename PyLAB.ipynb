{
  "nbformat": 4,
  "nbformat_minor": 0,
  "metadata": {
    "colab": {
      "name": "PyLAB.ipynb",
      "provenance": [],
      "authorship_tag": "ABX9TyN9zui5P+2zF7pqArghZQmO",
      "include_colab_link": true
    },
    "kernelspec": {
      "name": "python3",
      "display_name": "Python 3"
    },
    "language_info": {
      "name": "python"
    }
  },
  "cells": [
    {
      "cell_type": "markdown",
      "metadata": {
        "id": "view-in-github",
        "colab_type": "text"
      },
      "source": [
        "<a href=\"https://colab.research.google.com/github/iamgeekyaseem/Learning_Tree/blob/main/PyLAB.ipynb\" target=\"_parent\"><img src=\"https://colab.research.google.com/assets/colab-badge.svg\" alt=\"Open In Colab\"/></a>"
      ]
    },
    {
      "cell_type": "markdown",
      "source": [
        "Sum calculator"
      ],
      "metadata": {
        "id": "JOU6fC0TBKPv"
      }
    },
    {
      "cell_type": "code",
      "execution_count": null,
      "metadata": {
        "id": "Hpf_Q8G1Isk7"
      },
      "outputs": [],
      "source": [
        "var1=int(input(\"Enter your 1st number here \"))\n",
        "var2=int(input(\"Enter your 2st number here \"))\n",
        "if var1==var2:\n",
        "    print(\"Enterd numbers are equal\")\n",
        "else:\n",
        "    print(\"Not equal\")"
      ]
    },
    {
      "cell_type": "markdown",
      "source": [
        "Bigger no. calc"
      ],
      "metadata": {
        "id": "kTBO-0cFBPFk"
      }
    },
    {
      "cell_type": "code",
      "source": [
        "a = int(input(\"Enter The 1st no.: \"))\n",
        "b = int(input(\"Enter The 2nd no. : \"))\n",
        "c = a+b\n",
        "if c==5: \n",
        "  print(\"sum is =5\")\n",
        "elif c<=5:\n",
        "  print(\"sum is less than 5\")\n",
        "else:\n",
        "  print(\"sum is greater than 5\")"
      ],
      "metadata": {
        "id": "_6Y3GCCdJJtB"
      },
      "execution_count": null,
      "outputs": []
    },
    {
      "cell_type": "markdown",
      "source": [
        "Grade calcu"
      ],
      "metadata": {
        "id": "noAxaWBxBUqN"
      }
    },
    {
      "cell_type": "code",
      "source": [
        "a=int(input(\"Enter your marks\"))\n",
        "if a<=35:\n",
        "  print(\"F\")\n",
        "elif a>60 and a<80:\n",
        "  print(\"B\")\n",
        "elif a>50 and a<60:\n",
        "  print(\"C\")\n",
        "elif a>45 and a<50:\n",
        "  print(\"D\")\n",
        "elif a>35 and a<45:\n",
        "  print(\"R\")\n",
        "elif a>80:\n",
        "  print(\"A\")"
      ],
      "metadata": {
        "id": "o13BPYoTpAhG"
      },
      "execution_count": null,
      "outputs": []
    },
    {
      "cell_type": "markdown",
      "source": [
        "Work destination calcu"
      ],
      "metadata": {
        "id": "uZQkKjF4BX2N"
      }
    },
    {
      "cell_type": "code",
      "source": [
        "age=int(input(\"Enter your age\"))\n",
        "gender=str(input(\"Male,Enter M or Female,Enter F\"))\n",
        "status=str(input(\"Your marital status Married:Yes(Y) else No(N)\"))\n",
        "if gender==\"F\":\n",
        "  print(\"You'll work in Urban area\")\n",
        "if gender==\"M\" and age>=20 and age<=40:\n",
        "  print(\"You'll work in Rural area\")\n",
        "if gender==\"M\" and age>40 and age<=60:\n",
        "  print(\"You'll work in Urban area\")"
      ],
      "metadata": {
        "id": "-vGcBlRwrfKq"
      },
      "execution_count": null,
      "outputs": []
    },
    {
      "cell_type": "markdown",
      "source": [
        "Leap year calc"
      ],
      "metadata": {
        "id": "wb_y3kBwBbki"
      }
    },
    {
      "cell_type": "code",
      "source": [
        "y=int (input(\"Enter a year : \"))\n",
        "if y%4==0:\n",
        "  print(\"It is a leap year\") \n",
        "elif y%400==0:\n",
        "  print(\"It is a leap year\")\n",
        "else: print(\"It is not a leap year\")"
      ],
      "metadata": {
        "id": "frZxkrutxjsD"
      },
      "execution_count": null,
      "outputs": []
    },
    {
      "cell_type": "markdown",
      "source": [
        "Salary plus bonus calcu"
      ],
      "metadata": {
        "id": "I03AFGniBeay"
      }
    },
    {
      "cell_type": "code",
      "source": [
        "y=int(input(\"salary of the person is \"))\n",
        "x=int(input(\"Years of service is\"))\n",
        "z=y*0.05\n",
        "p=y+z\n",
        "if x>=5:\n",
        "  print(\"bonus is \",z)\n",
        "  print(\"gross salary is \",p)\n",
        "else:\n",
        "  print(\"no bonus\")"
      ],
      "metadata": {
        "id": "pZneM3gJzrG4"
      },
      "execution_count": null,
      "outputs": []
    },
    {
      "cell_type": "markdown",
      "source": [
        "Dictionary meaning of the user input word"
      ],
      "metadata": {
        "id": "z3OF1EopBhtL"
      }
    },
    {
      "cell_type": "code",
      "source": [
        "d1 = {\"harry\":\"potter\",\n",
        "      \"mutable\":\"that can be changed\",\n",
        "      \"immutable\":\"something that cant be changed\",\n",
        "      \"geek\":\"tech enthu\" }\n",
        "\n",
        "print(\"you wanna know the meaning of? harry, mutable, immutable, geek\")\n",
        "var1 = str(input(\"Your word here: \"))\n",
        "print(d1[var1])"
      ],
      "metadata": {
        "id": "l7BtT6QR3qEb"
      },
      "execution_count": null,
      "outputs": []
    },
    {
      "cell_type": "markdown",
      "source": [
        "Faulty Calculator"
      ],
      "metadata": {
        "id": "cFFqdZVWH1YK"
      }
    },
    {
      "cell_type": "code",
      "source": [
        "var1=int(input(\"First num: \"))\n",
        "var2=int(input(\"Second num: \"))\n",
        "op=str(input(\"Opertion you wanna use: \" ))\n",
        "if var1==45 and var2==3 and op==\"*\":\n",
        "  print(555)\n",
        "elif op==\"*\":\n",
        "  print(var1*var2)\n",
        "else:\n",
        "  print(\"Error\")\n",
        "if var1==59 and var2==9 and op==\"+\":\n",
        "  print(77)\n",
        "elif op==\"+\":\n",
        "  print(var1+var2)\n",
        "if var1==56 and var2==4 and op==\"/\":\n",
        "  print(4)\n",
        "elif op==\"/\":\n",
        "  print(var1/var2)"
      ],
      "metadata": {
        "id": "XcMb1l8fH1Ab"
      },
      "execution_count": null,
      "outputs": []
    },
    {
      "cell_type": "markdown",
      "source": [
        "Question: Make list of items and check is numbers are present or not if present then check if num is less than 6 or not if yes then print----.\n"
      ],
      "metadata": {
        "id": "XprGm5VMPnzI"
      }
    },
    {
      "cell_type": "code",
      "source": [
        "# list1 = [ [\"Harry\", 1], [\"Larry\", 2],\n",
        "#           [\"Carry\", 6], [\"Marie\", 250]]\n",
        "# dict1 = dict(list1)\n",
        "#\n",
        "# for item in dict1:\n",
        "#     print(item)\n",
        "# for item, lollypop in dict1.items():\n",
        "#     print(item, \"and lolly is \", lollypop)\n",
        "items = [int, float, \"HaERRY\", 5,3, 3, 22, 21, 64, 23, 233, 23, 6]\n",
        "\n",
        "for item in items:\n",
        "    if str(item).isnumeric() and item>=6:\n",
        "        print(item)\n",
        "\n"
      ],
      "metadata": {
        "id": "IZVPbyxb-Nb2"
      },
      "execution_count": null,
      "outputs": []
    },
    {
      "cell_type": "markdown",
      "source": [
        "Triangle Star Pattern"
      ],
      "metadata": {
        "id": "j3FaJYEhS_Qc"
      }
    },
    {
      "cell_type": "code",
      "source": [
        "n=int(input(\"Enter any number: \"))\n",
        "for i in range(0,n):\n",
        "  for j in range(0,i+1):\n",
        "    print(\"*  \", end=\" \")\n",
        "  print(\"\\n\")"
      ],
      "metadata": {
        "id": "pg-m-ULNTR1r"
      },
      "execution_count": null,
      "outputs": []
    },
    {
      "cell_type": "markdown",
      "source": [
        "Number Pattern"
      ],
      "metadata": {
        "id": "EWDNoQqSS6ZZ"
      }
    },
    {
      "cell_type": "code",
      "source": [
        "n=int(input(\"Enter any number: \"))\n",
        "for i in range(1,n):\n",
        "  for j in range(1,i+1):\n",
        "    print(j, end=\" \")\n",
        "  print()"
      ],
      "metadata": {
        "id": "npwOa7-JRsb_"
      },
      "execution_count": null,
      "outputs": []
    },
    {
      "cell_type": "markdown",
      "source": [
        "UNIQUE NUMBER PATTERN "
      ],
      "metadata": {
        "id": "QstTL6pLS1Qy"
      }
    },
    {
      "cell_type": "code",
      "source": [
        "n=int(input(\"Enter any number: \"))\n",
        "for i in range(1,n):\n",
        "  for j in range(1,i+1):\n",
        "    print(j, end=\" \")\n",
        "  for k in range(j-1,0,-1):\n",
        "    print(k, end=\" \")\n",
        "  print()"
      ],
      "metadata": {
        "id": "nFGfMSDNSGvV"
      },
      "execution_count": null,
      "outputs": []
    },
    {
      "cell_type": "code",
      "source": [
        "n=int(input(\"Enter any number: \"))\n",
        "for i in range(n,1,-1):\n",
        "  for j in range(1,i):\n",
        "    print(j, end=\" \")\n",
        "  print()\n"
      ],
      "metadata": {
        "id": "UtP-Go3TOHei"
      },
      "execution_count": null,
      "outputs": []
    },
    {
      "cell_type": "code",
      "source": [
        "n=int(input(\"Enter any number: \"))\n",
        "for i in range(1,n+1):\n",
        "  for j in range(1,n+1):\n",
        "    if i==j or i+j==n+1:\n",
        "      print(\"*\", end=\" \")\n",
        "    else:\n",
        "      print(\" \")\n",
        "  print()"
      ],
      "metadata": {
        "id": "gPPJLl4JIRF8"
      },
      "execution_count": null,
      "outputs": []
    },
    {
      "cell_type": "code",
      "source": [
        "n=int(input(\"Enter any number: \"))\n",
        "for i in range(n,0,-1):\n",
        "  for j in range(0,i):\n",
        "    print(\"*  \", end=\" \")\n",
        "  print()"
      ],
      "metadata": {
        "id": "c3PUYmhLG8eB"
      },
      "execution_count": null,
      "outputs": []
    },
    {
      "cell_type": "code",
      "source": [
        "i=1\n",
        "while i<=5:\n",
        "  print(\"Aseem\", end=\" \")\n",
        "  i=i+1\n",
        "  print(\"\\n\")"
      ],
      "metadata": {
        "id": "tKC-_o_dbALv"
      },
      "execution_count": null,
      "outputs": []
    },
    {
      "cell_type": "code",
      "source": [
        "#to sum numbers from 1 to 10\n",
        "s=0\n",
        "for i in range(1,11):\n",
        "  s=s+i\n",
        "print(s)"
      ],
      "metadata": {
        "id": "eR46BNztcQqd"
      },
      "execution_count": null,
      "outputs": []
    },
    {
      "cell_type": "code",
      "source": [
        "#table\n",
        "n=int(input(\"Enter the table you want to print: \"))\n",
        "for i in range(1,11):\n",
        "  m=i*n\n",
        "  print(i, \"*\", n, \"=\", m)"
      ],
      "metadata": {
        "id": "CLWoy4kjeAbJ"
      },
      "execution_count": null,
      "outputs": []
    },
    {
      "cell_type": "code",
      "source": [
        "n=int(input(\"Enter the number whose factorial you want to create: \"))\n",
        "f=1\n",
        "for i in range(1,n+1):\n",
        "  f=f*i\n",
        "print(\"Factorial is = \", f)"
      ],
      "metadata": {
        "id": "zTK8JV6Pfeyk"
      },
      "execution_count": null,
      "outputs": []
    },
    {
      "cell_type": "code",
      "source": [
        "!pip install schedule"
      ],
      "metadata": {
        "id": "QMBr2dbh6UyS"
      },
      "execution_count": null,
      "outputs": []
    },
    {
      "cell_type": "code",
      "source": [
        "!pip install pyautogui"
      ],
      "metadata": {
        "id": "YNld_FxG7aMp"
      },
      "execution_count": null,
      "outputs": []
    },
    {
      "cell_type": "code",
      "source": [
        "!pip install webbrowser"
      ],
      "metadata": {
        "id": "aTmebG--7ss-"
      },
      "execution_count": null,
      "outputs": []
    },
    {
      "cell_type": "code",
      "source": [
        "# works in both windows and Mac\n",
        "!pip install pyautogui\n",
        "from time import sleep\n",
        "import pyautogui as aseem\n",
        "import schedule\n",
        "import webbrowser\n",
        "import subprocess\n",
        "# the link of the class\n",
        "link = \"meet.google.com/yrf-feui-ykz\"\n",
        "# the timing of the class\n",
        "time = \"19:27\"\n",
        "subprocess.Popen(\"C:\\Program Files\\Google\\Chrome\\Application\\chrome.exe\")\n",
        "def join():\n",
        "    webbrowser.open_new_tab('https://'+ link)\n",
        "    sleep(10)\n",
        "    aseem.hotkey('Ctrl','d') #FIXED\n",
        "    aseem.hotkey('Ctrl','e') #FIXED\n",
        "    aseem.click(1413,576)\n",
        "schedule.every().day.at(time).do(join)\n",
        "while True:\n",
        "    schedule.run_pending()\n",
        "    sleep(1)\n",
        "    \n",
        "    "
      ],
      "metadata": {
        "id": "VSlZ_9M8VoSn"
      },
      "execution_count": null,
      "outputs": []
    },
    {
      "cell_type": "markdown",
      "source": [
        "del items in list also we can use list.pop([index])"
      ],
      "metadata": {
        "id": "5m5LIIfRzcf4"
      }
    },
    {
      "cell_type": "code",
      "source": [
        "nums=[22, 33 ,453 , 31, 232 ,4]\n",
        "del nums[2:4]\n",
        "nums"
      ],
      "metadata": {
        "id": "kFMzVPSqnqKk"
      },
      "execution_count": null,
      "outputs": []
    },
    {
      "cell_type": "markdown",
      "source": [
        "Revising Codes"
      ],
      "metadata": {
        "id": "3MAYECVvKvVb"
      }
    },
    {
      "cell_type": "code",
      "source": [
        "#factorial number of given num\n",
        "n=int(input(\"Enter number: \"))\n",
        "m=1\n",
        "for i in range(1,n+1):\n",
        "  m=m*i\n",
        "print(m)"
      ],
      "metadata": {
        "id": "jHjn58y68TOw"
      },
      "execution_count": null,
      "outputs": []
    },
    {
      "cell_type": "code",
      "source": [
        "#reverse of a number\n",
        "num=int(input(\"Enter number: \"))\n",
        "m=0\n",
        "while num!=0:\n",
        "  x=num%10\n",
        "  m=m*10+x\n",
        "  num=num//10\n",
        "print(m)"
      ],
      "metadata": {
        "id": "VzMTHBI98_Rq"
      },
      "execution_count": null,
      "outputs": []
    },
    {
      "cell_type": "code",
      "source": [
        "#perfect number eg. 6=1,2,3.....1+2+3=6\n",
        "n=int(input(\"Enter number: \"))\n",
        "m=0\n",
        "for i in range(1,(n//2)+1):\n",
        "  if n%i==0:\n",
        "    m=m+i\n",
        "if m==n:\n",
        "  print(\"Perfect number\")\n",
        "else:\n",
        "  print(\"Not a perfect number\")"
      ],
      "metadata": {
        "id": "lDPHyByy-k84"
      },
      "execution_count": null,
      "outputs": []
    },
    {
      "cell_type": "code",
      "source": [
        "#armstrong number example: 153==1^3+5^3+3^3 (cube because 3 digit number)\n",
        "n=int(input(\"Enter number: \"))\n",
        "temp=n\n",
        "s=0\n",
        "for i in range(3):\n",
        "  x=n%10\n",
        "  s=s+x*x*x\n",
        "  n=n//10\n",
        "if s==temp:\n",
        "  print(\"Armstrong number\")\n",
        "else:\n",
        "  print(\"Not an armstrong number\")"
      ],
      "metadata": {
        "id": "xrVnAiPdCVvz"
      },
      "execution_count": null,
      "outputs": []
    },
    {
      "cell_type": "code",
      "source": [
        "#check whether the enterned num is palindrome or not\n",
        "n=int(input(\"Enter Number: \"))\n",
        "temp=n\n",
        "sum=0\n",
        "while n!=0:\n",
        "  x=n%10\n",
        "  sum=sum*10+x\n",
        "  n=n//10\n",
        "if sum==temp:\n",
        "  print(\"Palindrome\")\n",
        "else:\n",
        "  print(\"Not a palindrome\")"
      ],
      "metadata": {
        "id": "Axp3TDEEJL1m"
      },
      "execution_count": null,
      "outputs": []
    },
    {
      "cell_type": "code",
      "source": [
        "#arm strong numbers b/w 100 1000\n",
        "for i in range(100,1000):\n",
        "  s=0\n",
        "  z=i\n",
        "  while z!=0:\n",
        "    x=z%10\n",
        "    s=s+x*x*x\n",
        "    z=z//10\n",
        "  if i==s:\n",
        "    print(s) #not working"
      ],
      "metadata": {
        "id": "oD7bXJCTKjp9"
      },
      "execution_count": null,
      "outputs": []
    },
    {
      "cell_type": "code",
      "source": [
        "#prime numbers b/w 1 to 100\n",
        "\n",
        "for i in range(2,100):\n",
        "  j=2\n",
        "  while j<=i//2:\n",
        "    if i%j==0:\n",
        "      break\n",
        "    j=j+1\n",
        "  if j>=i//2:\n",
        "    print(i)\n",
        "  \n",
        "  "
      ],
      "metadata": {
        "id": "3rfxi8wYV2OE"
      },
      "execution_count": null,
      "outputs": []
    },
    {
      "cell_type": "code",
      "source": [
        "#HCF of two number\n",
        "a=int(input(\"Enter any number: \"))\n",
        "b=int(input(\"Enter any number: \"))\n",
        "small=0\n",
        "if a<b:\n",
        "  small=a\n",
        "else:\n",
        "  small=b\n",
        "for i in range(small,0,-1):\n",
        "  if a%i==0 and b%i==0:\n",
        "    print(\"HCF is\", i)\n",
        "    break"
      ],
      "metadata": {
        "id": "s0WmfnhjJqft"
      },
      "execution_count": null,
      "outputs": []
    },
    {
      "cell_type": "markdown",
      "source": [
        ""
      ],
      "metadata": {
        "id": "jsQRa93B_HAb"
      }
    },
    {
      "cell_type": "code",
      "source": [
        "#LCM of two numbers\n",
        "a=int(input(\"Enter any number: \"))\n",
        "b=int(input(\"Enter any number: \"))\n",
        "big=0\n",
        "if a<b:\n",
        "  big=b\n",
        "else:\n",
        "  big=a\n",
        "for i in range(big,(a*b)+1):\n",
        "  if a%i==0 and b%i==0:\n",
        "    print(\"LCM is\", i)\n",
        "    break\n",
        "    #not working"
      ],
      "metadata": {
        "id": "PlDub6-ELXci"
      },
      "execution_count": null,
      "outputs": []
    },
    {
      "cell_type": "code",
      "source": [
        "#printing pattern\n",
        "for i in range(6):\n",
        "  for j in range(i+1):\n",
        "    print(\"*\", end=\" \")\n",
        "  print()"
      ],
      "metadata": {
        "id": "W_PsOobEMxwz"
      },
      "execution_count": null,
      "outputs": []
    },
    {
      "cell_type": "code",
      "source": [
        "#upright right triangle pattern\n",
        "for i in range(6,0,-1):\n",
        "  for j in range(i+1):\n",
        "    print(\"*\", end=\" \")\n",
        "  print()"
      ],
      "metadata": {
        "id": "oOF1EVfkNiNY"
      },
      "execution_count": null,
      "outputs": []
    },
    {
      "cell_type": "code",
      "source": [
        "#printing pattern [17] cells left right inverted \n",
        "for i in range(6):\n",
        "  for k in range(0,6-i):\n",
        "    print(\" \", end=\"\")\n",
        "  for j in range(i):\n",
        "    print(\"*\", end=\" \")\n",
        "  print()"
      ],
      "metadata": {
        "id": "atlX4LYJOnD0"
      },
      "execution_count": null,
      "outputs": []
    },
    {
      "cell_type": "code",
      "source": [
        "n = int(input())\n",
        "list1=[]\n",
        "for i in range(n):\n",
        "    list1.append(i**2)\n",
        "for j in list1:\n",
        "   print(j)#prints square of till the input num"
      ],
      "metadata": {
        "id": "HOuPDCnXJiLi"
      },
      "execution_count": null,
      "outputs": []
    },
    {
      "cell_type": "code",
      "source": [
        "#using functions\n",
        "def add_sub(a,b):\n",
        "  c=a+b\n",
        "  d=a-b\n",
        "  return c,d\n",
        "res1,res2=add_sub(55,11)\n",
        "print(res1, res2)\n",
        "\n",
        "\n"
      ],
      "metadata": {
        "id": "4wbnmXFMMBQd"
      },
      "execution_count": null,
      "outputs": []
    },
    {
      "cell_type": "code",
      "source": [
        "def is_leap(year):\n",
        "    \n",
        "    if year%4==0 and (year%400==0 or year%100!=0):\n",
        "        print(True)\n",
        "    else:\n",
        "        print(False)\n",
        "    \n",
        "\n",
        "year = int(input())\n",
        "print(is_leap(year))"
      ],
      "metadata": {
        "id": "zVcdUnnwMvm7"
      },
      "execution_count": null,
      "outputs": []
    },
    {
      "cell_type": "code",
      "source": [
        "def is_leap(year):\n",
        "    return year % 4 == 0 and (year % 400 == 0 or year % 100 != 0)\n",
        "year=int(input())\n",
        "print(is_leap(year))"
      ],
      "metadata": {
        "id": "lsBnb0GCNSru"
      },
      "execution_count": null,
      "outputs": []
    },
    {
      "cell_type": "code",
      "source": [
        "n = int(input(\"Enter total number of score: \"))\n",
        "lst= []\n",
        "a=  input(\"Enter scores with with spaces: \").split()\n",
        "for i in a:\n",
        "    lst.append(int(i))\n",
        "lst.sort()\n",
        "print(\"Runner up is\" ,lst[-2])"
      ],
      "metadata": {
        "id": "goLHqH59NSoo"
      },
      "execution_count": null,
      "outputs": []
    },
    {
      "cell_type": "code",
      "source": [
        "\n",
        "n = int(input())\n",
        "arr = map(int, input().split())\n",
        "print (sorted(set(arr))[-2])"
      ],
      "metadata": {
        "id": "birq6xsdbfFz"
      },
      "execution_count": null,
      "outputs": []
    },
    {
      "cell_type": "code",
      "source": [
        "#printing all the cordinates of cube except those whose sum equal n\n",
        "listijk = []\n",
        "for i in range(x + 1):\n",
        "    for j in range (y + 1):\n",
        "        for k in range (z + 1):\n",
        "            if i + j + k != n: #before printing the result, it will exclude the output which 'i' + 'j' + 'k' is the same as 'n'.\n",
        "                listijk.append([i,j,k])\n",
        "print(listijk)"
      ],
      "metadata": {
        "id": "be42lm6zmwNy"
      },
      "execution_count": null,
      "outputs": []
    },
    {
      "cell_type": "code",
      "source": [
        "def swap_case(s):\n",
        "    result = \"\"\n",
        "    for letter in s:\n",
        "        if letter == letter.upper():\n",
        "            result += letter.lower()\n",
        "        elif letter == letter.lower():\n",
        "            result += letter.upper()\n",
        "    return result\n",
        "\n",
        "if __name__ == '__main__':\n",
        "    s = input()\n",
        "    result = swap_case(s)\n",
        "    print(result)"
      ],
      "metadata": {
        "id": "qMaBNejCybrn"
      },
      "execution_count": null,
      "outputs": []
    },
    {
      "cell_type": "code",
      "source": [
        "def split_and_join(line):\n",
        "    line=line.split(\" \")\n",
        "    line=\"-\".join(line)\n",
        "    return line\n",
        "if __name__ == '__main__':\n",
        "    line = input()\n",
        "    result = split_and_join(line)\n",
        "    print(result)"
      ],
      "metadata": {
        "id": "Va_Y1QyWXfEi"
      },
      "execution_count": null,
      "outputs": []
    },
    {
      "cell_type": "code",
      "source": [
        "def print_full_name(first,last):\n",
        "    print(\"Hello \"+first_name+\" \"+last_name+\"! You just delved into python.\")\n",
        "\n",
        "if __name__ == '__main__':\n",
        "    first_name = \"Aseem\"\n",
        "    last_name = \"Gupta\"\n",
        "    print_full_name(first_name,last_name)"
      ],
      "metadata": {
        "id": "FpneIudSYYKI"
      },
      "execution_count": null,
      "outputs": []
    },
    {
      "cell_type": "code",
      "source": [
        "if __name__ == '__main__':\n",
        "    for i in range(int(input(\"Students\"))):\n",
        "        name = input(\"Name\")\n",
        "        score = float(input(\"Score\"))\n",
        "        lst=[]\n",
        "        for j in range(i):\n",
        "          lst.insert([name,score]))\n",
        "        \n",
        "print(lst)"
      ],
      "metadata": {
        "id": "0wOFc5HGgUCe"
      },
      "execution_count": null,
      "outputs": []
    },
    {
      "cell_type": "code",
      "source": [
        "def fact(n):\n",
        "  if n==0:\n",
        "    return 1\n",
        "  return n*fact(n-1)\n",
        "\n",
        "result= fact(5)\n",
        "print(result)"
      ],
      "metadata": {
        "id": "kN5t19gX-h-h"
      },
      "execution_count": null,
      "outputs": []
    },
    {
      "cell_type": "code",
      "source": [
        "#using Try & Except handeling\n",
        "x=(input(\"Enter num1, \")) #here i enter str instead of int it will \n",
        "#throw error but try except will pass this error\n",
        "#as string and the rest code continue to run\n",
        "y=(input(\"Enter num2, \"))\n",
        "try:\n",
        "  print(\"Sum of num1+num2=\",int(x)+int(y))\n",
        "except Exception as e:\n",
        "  print(e)\n",
        "print(\"this is imp line of code working even after the error\")"
      ],
      "metadata": {
        "colab": {
          "base_uri": "https://localhost:8080/"
        },
        "id": "RBtKB_cXjWy3",
        "outputId": "f75c9aa2-717c-4748-a581-92f1c55e0802"
      },
      "execution_count": null,
      "outputs": [
        {
          "output_type": "stream",
          "name": "stdout",
          "text": [
            "Enter num1, sds\n",
            "Enter num2, asda\n",
            "invalid literal for int() with base 10: 'sds'\n",
            "this is imp line of code working even after the error\n"
          ]
        }
      ]
    },
    {
      "cell_type": "code",
      "source": [
        "#using decorater we can modify the existing function without\n",
        "#actually making changes in the orignal functions\n",
        "def div(a,b): #lets say its the orignal function\n",
        "  print(a/b)\n",
        "\n",
        "\n",
        "def smart_div(func):\n",
        "  def inner(a,b):\n",
        "    if a<b:\n",
        "      a,b=b,a\n",
        "    return func(a,b) #idk why\n",
        "  return inner\n",
        "\n",
        "div = smart_div(div) #here we assigned the div to smart div\n",
        "\n",
        "div(2,4)"
      ],
      "metadata": {
        "id": "o-cbzf4_SY_F"
      },
      "execution_count": null,
      "outputs": []
    },
    {
      "cell_type": "code",
      "source": [
        "#using lambda functions\n",
        "#using filter func as well\n",
        "#using reduce concept\n",
        "from functools import reduce\n",
        "\n",
        "nums=(5,6,12,7,8,4,5,1,455,54,544)\n",
        "evens= list(filter(lambda n:n%2==0, nums))\n",
        "print(\"Evense\", evens)\n",
        "doubles = list(filter(lambda a:a*2, evens))\n",
        "print(\"Doubles\", doubles)\n",
        "sum= reduce(lambda x,y: x+y,doubles)\n",
        "print(\"Sum of doubles\", sum)\n"
      ],
      "metadata": {
        "id": "9ejqBKbvN4Q9"
      },
      "execution_count": null,
      "outputs": []
    },
    {
      "cell_type": "code",
      "source": [
        "#bubble sort\n",
        "def sort(nums):\n",
        "  for i in range(len(nums)-1,0,-1): #rem range\n",
        "    for j in range(i):\n",
        "      if nums[j]>nums[j+1]: #change sign of ascend and descend\n",
        "        nums[j],nums[j+1]=nums[j+1],nums[j]\n",
        "\n",
        "nums=[2,4,6,2,5,43,2342,2,34]\n",
        "sort(nums)\n",
        "print(nums)"
      ],
      "metadata": {
        "id": "HiL_toJcX7tt",
        "colab": {
          "base_uri": "https://localhost:8080/"
        },
        "outputId": "ecbe2479-7b4b-4e9f-cff3-c1ab8ee63d12"
      },
      "execution_count": null,
      "outputs": [
        {
          "output_type": "stream",
          "name": "stdout",
          "text": [
            "[2, 2, 2, 4, 5, 6, 34, 43, 2342]\n"
          ]
        }
      ]
    },
    {
      "cell_type": "code",
      "source": [
        "#selection sort\n",
        "def sel_sort(nums):\n",
        "  for i in range(len(nums)-1):#rem\n",
        "    minpos=i\n",
        "    for j in range(i,len(nums)): #rem\n",
        "      if nums[j]<nums[minpos]:\n",
        "        minpos=j\n",
        "    nums[minpos],nums[i]=nums[i],nums[minpos] #rem j:i\n",
        "nums=[3,3,43,2,2343542342,23,2342,2,34,324,2423,4]\n",
        "sel_sort(nums)\n",
        "print(nums)"
      ],
      "metadata": {
        "id": "PDWsg92JVp7z",
        "outputId": "659df7eb-d872-4d93-8963-f0799fb89518",
        "colab": {
          "base_uri": "https://localhost:8080/"
        }
      },
      "execution_count": null,
      "outputs": [
        {
          "output_type": "stream",
          "name": "stdout",
          "text": [
            "[2, 2, 3, 3, 4, 23, 34, 43, 324, 2342, 2423, 2343542342]\n"
          ]
        }
      ]
    },
    {
      "cell_type": "code",
      "source": [
        "#Using Linear Search with While Loop\n",
        "pos=0\n",
        "def search(list, n):\n",
        "  i=0\n",
        "  while i<len(list):\n",
        "    if list[i]==n:\n",
        "      globals()['pos']=i\n",
        "      return True\n",
        "    i+=1\n",
        "  return False\n",
        "list=[1,2,3,4,5,6,7,8,9,0]\n",
        "n=9\n",
        "\n",
        "if (search(list,n)):\n",
        "  print(\"Found at\",pos)\n",
        "else:\n",
        "  print(\"Not Found\")"
      ],
      "metadata": {
        "id": "2D-y4_-wbS6q",
        "colab": {
          "base_uri": "https://localhost:8080/"
        },
        "outputId": "62393283-73a4-4e08-8d62-614a806e5b66"
      },
      "execution_count": null,
      "outputs": [
        {
          "output_type": "stream",
          "name": "stdout",
          "text": [
            "Found at 8\n"
          ]
        }
      ]
    },
    {
      "cell_type": "code",
      "source": [
        "#Same linear search with For Loop\n",
        "def search(list,n):\n",
        "  for i in range(len(list)):\n",
        "    if list[i]==n:\n",
        "      pos=i\n",
        "      return True\n",
        "  return False\n",
        "\n",
        "list=[1,2,3,4,5,6,7,8,9,0]\n",
        "n=9\n",
        "\n",
        "if (search(list,n)):\n",
        "  print(\"Found at\",pos+1)\n",
        "else:\n",
        "  print(\"Not Found\")"
      ],
      "metadata": {
        "colab": {
          "base_uri": "https://localhost:8080/"
        },
        "id": "CuBCE90crNH5",
        "outputId": "604d8d60-c3cb-481b-9b7c-5c0aeecbdf46"
      },
      "execution_count": null,
      "outputs": [
        {
          "output_type": "stream",
          "name": "stdout",
          "text": [
            "Found at 9\n"
          ]
        }
      ]
    },
    {
      "cell_type": "code",
      "source": [
        "#Binary Search\n",
        "pos=-1\n",
        "def bin_search(list,n):\n",
        "  l=0\n",
        "  u=len(list)-1\n",
        "\n",
        "  while l<=u:\n",
        "    mid=(l+u)//2\n",
        "\n",
        "    if list[mid]==n:\n",
        "      globals()['pos']= mid\n",
        "      return True\n",
        "    else:\n",
        "      if list[mid]<n:\n",
        "        l=mid+1\n",
        "      else:\n",
        "        u=mid-1\n",
        "\n",
        "  return False\n",
        "\n",
        "list=[1,2,3,4,5,6,7,23,43,564,7576] #list need to be sorted for binary search\n",
        "n=564\n",
        "\n",
        "if (search(list,n)):\n",
        "  print(\"Found at\",pos+1)\n",
        "else:\n",
        "  print(\"Not Found\")"
      ],
      "metadata": {
        "colab": {
          "base_uri": "https://localhost:8080/"
        },
        "id": "IGRmw7Qit_zC",
        "outputId": "d6772633-c55a-4878-c3d2-0ddc65c9dd85"
      },
      "execution_count": null,
      "outputs": [
        {
          "output_type": "stream",
          "name": "stdout",
          "text": [
            "Found at 0\n"
          ]
        }
      ]
    },
    {
      "cell_type": "code",
      "source": [
        "#insertion sorting\n",
        "def ins_sort(list):\n",
        "  for i in range(1, len(list)):\n",
        "    c=i\n",
        "    while c>0 and list[i]<list[i-1]:\n",
        "      list[i],list[i-1]=list[i-1],list[i]\n",
        "      c=c-1\n",
        "\n",
        "list=[1,2,3,4,5,6,7,23,43,564,7576]\n",
        "ins_sort(list)\n",
        "print(list)"
      ],
      "metadata": {
        "colab": {
          "base_uri": "https://localhost:8080/"
        },
        "id": "nypfetH6VGDv",
        "outputId": "37c6a556-4869-453a-92a1-f38c49e7b647"
      },
      "execution_count": null,
      "outputs": [
        {
          "output_type": "stream",
          "name": "stdout",
          "text": [
            "[1, 2, 3, 4, 5, 6, 7, 23, 43, 564, 7576]\n"
          ]
        }
      ]
    },
    {
      "cell_type": "code",
      "source": [
        "#webhook testing"
      ],
      "metadata": {
        "id": "dyk849ufWJSi"
      },
      "execution_count": null,
      "outputs": []
    },
    {
      "cell_type": "code",
      "source": [
        "!pip3 install ColabTurtle\n",
        "from ColabTurtle.Turtle import *"
      ],
      "metadata": {
        "id": "gHG8-R1LBZyJ"
      },
      "execution_count": null,
      "outputs": []
    },
    {
      "cell_type": "code",
      "source": [
        "help('ColabTurtle.Turtle')"
      ],
      "metadata": {
        "id": "MU2GC0JhC_SL",
        "colab": {
          "base_uri": "https://localhost:8080/"
        },
        "outputId": "bb485db7-5a08-4b30-ac50-e07ee0da77cd"
      },
      "execution_count": 7,
      "outputs": [
        {
          "output_type": "stream",
          "name": "stdout",
          "text": [
            "Help on module ColabTurtle.Turtle in ColabTurtle:\n",
            "\n",
            "NAME\n",
            "    ColabTurtle.Turtle\n",
            "\n",
            "FUNCTIONS\n",
            "    back = backward(units)\n",
            "        # makes the turtle move backward by 'units' units\n",
            "    \n",
            "    backward(units)\n",
            "        # makes the turtle move backward by 'units' units\n",
            "    \n",
            "    bgcolor(color=None, c2=None, c3=None)\n",
            "        # change the background color of the drawing area\n",
            "        # if no params, return the current background color\n",
            "    \n",
            "    bk = backward(units)\n",
            "        # makes the turtle move backward by 'units' units\n",
            "    \n",
            "    clear()\n",
            "        # clear any text or drawing on the screen\n",
            "    \n",
            "    color(color=None, c2=None, c3=None)\n",
            "        # change the color of the pen\n",
            "        # if no params, return the current pen color\n",
            "    \n",
            "    distance(x, y=None)\n",
            "        # calculate the distance between the turtle and a given point\n",
            "    \n",
            "    down = pendown()\n",
            "        # lowers the pen such that following turtle moves will now cause drawings\n",
            "    \n",
            "    face(degrees)\n",
            "        # makes the turtle face a given direction\n",
            "    \n",
            "    fd = forward(units)\n",
            "        # makes the turtle move forward by 'units' units\n",
            "    \n",
            "    forward(units)\n",
            "        # makes the turtle move forward by 'units' units\n",
            "    \n",
            "    getheading()\n",
            "        # retrieve the turtle's current angle\n",
            "    \n",
            "    getx()\n",
            "        # retrieve the turtle's currrent 'x' x-coordinate\n",
            "    \n",
            "    gety()\n",
            "        # retrieve the turtle's currrent 'y' y-coordinate\n",
            "    \n",
            "    goto(x, y=None)\n",
            "        # move the turtle to a designated 'x'-'y' coordinate\n",
            "    \n",
            "    heading = getheading()\n",
            "        # retrieve the turtle's current angle\n",
            "    \n",
            "    hideturtle()\n",
            "        # switch turtle visibility to OFF\n",
            "    \n",
            "    home()\n",
            "    \n",
            "    ht = hideturtle()\n",
            "        # switch turtle visibility to OFF\n",
            "    \n",
            "    initializeTurtle(initial_speed=4, initial_window_size=(800, 500))\n",
            "        # construct the display for turtle\n",
            "    \n",
            "    isdown()\n",
            "    \n",
            "    isvisible()\n",
            "    \n",
            "    left(degrees)\n",
            "        # makes the turtle move right by 'degrees' degrees (NOT radians, this library does not support radians right now)\n",
            "    \n",
            "    lt = left(degrees)\n",
            "        # makes the turtle move right by 'degrees' degrees (NOT radians, this library does not support radians right now)\n",
            "    \n",
            "    pd = pendown()\n",
            "        # lowers the pen such that following turtle moves will now cause drawings\n",
            "    \n",
            "    pencolor = color(color=None, c2=None, c3=None)\n",
            "        # change the color of the pen\n",
            "        # if no params, return the current pen color\n",
            "    \n",
            "    pendown()\n",
            "        # lowers the pen such that following turtle moves will now cause drawings\n",
            "    \n",
            "    pensize = width(width=None)\n",
            "        # change the width of the lines drawn by the turtle, in pixels\n",
            "        # if the function is called without arguments, it returns the current width\n",
            "    \n",
            "    penup()\n",
            "        # raises the pen such that following turtle moves will not cause any drawings\n",
            "    \n",
            "    pos = position()\n",
            "        # retrieve the turtle's current position as a (x,y) tuple vector\n",
            "    \n",
            "    position()\n",
            "        # retrieve the turtle's current position as a (x,y) tuple vector\n",
            "    \n",
            "    pu = penup()\n",
            "        # raises the pen such that following turtle moves will not cause any drawings\n",
            "    \n",
            "    right(degrees)\n",
            "        # makes the turtle move right by 'degrees' degrees (NOT radians)\n",
            "    \n",
            "    rt = right(degrees)\n",
            "        # makes the turtle move right by 'degrees' degrees (NOT radians)\n",
            "    \n",
            "    seth = face(degrees)\n",
            "        # makes the turtle face a given direction\n",
            "    \n",
            "    setheading = face(degrees)\n",
            "        # makes the turtle face a given direction\n",
            "    \n",
            "    setpos = goto(x, y=None)\n",
            "        # move the turtle to a designated 'x'-'y' coordinate\n",
            "    \n",
            "    setposition = goto(x, y=None)\n",
            "        # move the turtle to a designated 'x'-'y' coordinate\n",
            "    \n",
            "    setx(x)\n",
            "        # move the turtle to a designated 'x' x-coordinate, y-coordinate stays the same\n",
            "    \n",
            "    sety(y)\n",
            "        # move the turtle to a designated 'y' y-coordinate, x-coordinate stays the same\n",
            "    \n",
            "    shape(shape=None)\n",
            "    \n",
            "    showturtle()\n",
            "        # switch turtle visibility to ON\n",
            "    \n",
            "    speed(speed=None)\n",
            "        # update the speed of the moves, [1,13]\n",
            "        # if argument is omitted, it returns the speed.\n",
            "    \n",
            "    st = showturtle()\n",
            "        # switch turtle visibility to ON\n",
            "    \n",
            "    up = penup()\n",
            "        # raises the pen such that following turtle moves will not cause any drawings\n",
            "    \n",
            "    width(width=None)\n",
            "        # change the width of the lines drawn by the turtle, in pixels\n",
            "        # if the function is called without arguments, it returns the current width\n",
            "    \n",
            "    window_height()\n",
            "        # return turtle window height\n",
            "    \n",
            "    window_width()\n",
            "        # return turtle window width\n",
            "    \n",
            "    write(obj, **kwargs)\n",
            "    \n",
            "    xcor = getx()\n",
            "        # retrieve the turtle's currrent 'x' x-coordinate\n",
            "    \n",
            "    ycor = gety()\n",
            "        # retrieve the turtle's currrent 'y' y-coordinate\n",
            "\n",
            "DATA\n",
            "    DEFAULT_BACKGROUND_COLOR = 'black'\n",
            "    DEFAULT_IS_PEN_DOWN = True\n",
            "    DEFAULT_PEN_COLOR = 'white'\n",
            "    DEFAULT_PEN_WIDTH = 4\n",
            "    DEFAULT_SPEED = 4\n",
            "    DEFAULT_SVG_LINES_STRING = ''\n",
            "    DEFAULT_TURTLE_DEGREE = 270\n",
            "    DEFAULT_TURTLE_SHAPE = 'turtle'\n",
            "    DEFAULT_TURTLE_VISIBILITY = True\n",
            "    DEFAULT_WINDOW_SIZE = (800, 500)\n",
            "    SPEED_TO_SEC_MAP = {1: 1.5, 2: 0.9, 3: 0.7, 4: 0.5, 5: 0.3, 6: 0.18, 7...\n",
            "    SVG_TEMPLATE = '\\n      <svg width=\"{window_width}\" height=\"{wind...  ...\n",
            "    TURTLE_CIRCLE_SVG_TEMPLATE = '\\n      <g visibility={visibility} trans...\n",
            "    TURTLE_TURTLE_SVG_TEMPLATE = '<g visibility={visibility} transform=\"ro...\n",
            "    VALID_COLORS = ('black', 'navy', 'darkblue', 'mediumblue', 'blue', 'da...\n",
            "    VALID_COLORS_SET = {'aliceblue', 'antiquewhite', 'aqua', 'aquamarine',...\n",
            "    VALID_TURTLE_SHAPES = ('turtle', 'circle')\n",
            "    background_color = 'black'\n",
            "    drawing_window = None\n",
            "    is_pen_down = True\n",
            "    is_turtle_visible = True\n",
            "    pen_color = 'white'\n",
            "    pen_width = 4\n",
            "    svg_lines_string = ''\n",
            "    turtle_degree = 270\n",
            "    turtle_pos = (400, 250)\n",
            "    turtle_shape = 'turtle'\n",
            "    turtle_speed = 4\n",
            "    window_size = (800, 500)\n",
            "\n",
            "FILE\n",
            "    /usr/local/lib/python3.7/dist-packages/ColabTurtle/Turtle.py\n",
            "\n",
            "\n"
          ]
        }
      ]
    },
    {
      "cell_type": "code",
      "source": [
        "from ColabTurtle.Turtle import *\n",
        "initializeTurtle(initial_speed=10)\n",
        "side_length = 100\n",
        "angle = 360/4\n",
        "\n",
        "\n",
        "\n",
        "for i in range(6):\n",
        "  forward(120)\n",
        "  left(60)\n",
        "penup()\n",
        "left(120)\n",
        "forward(10)\n",
        "pendown()\n",
        "right(90)\n",
        "for i in range(6):\n",
        "  forward(90)\n",
        "  left(60)\n",
        "\n"
      ],
      "metadata": {
        "colab": {
          "base_uri": "https://localhost:8080/",
          "height": 521
        },
        "id": "w4J8fhJ7Je2E",
        "outputId": "c278fac6-0c95-44fc-a117-15a8abf3f24b"
      },
      "execution_count": 23,
      "outputs": [
        {
          "output_type": "display_data",
          "data": {
            "text/plain": [
              "<IPython.core.display.HTML object>"
            ],
            "text/html": [
              "\n",
              "      <svg width=\"800\" height=\"500\">\n",
              "        <rect width=\"100%\" height=\"100%\" fill=\"black\"/>\n",
              "        <line x1=\"400\" y1=\"250\" x2=\"400.0\" y2=\"130.0\" stroke-linecap=\"round\" style=\"stroke:white;stroke-width:4\"/><line x1=\"400.0\" y1=\"130.0\" x2=\"296.077\" y2=\"70.0\" stroke-linecap=\"round\" style=\"stroke:white;stroke-width:4\"/><line x1=\"296.077\" y1=\"70.0\" x2=\"192.154\" y2=\"130.0\" stroke-linecap=\"round\" style=\"stroke:white;stroke-width:4\"/><line x1=\"192.154\" y1=\"130.0\" x2=\"192.154\" y2=\"250.0\" stroke-linecap=\"round\" style=\"stroke:white;stroke-width:4\"/><line x1=\"192.154\" y1=\"250.0\" x2=\"296.077\" y2=\"310.0\" stroke-linecap=\"round\" style=\"stroke:white;stroke-width:4\"/><line x1=\"296.077\" y1=\"310.0\" x2=\"400.0\" y2=\"250.0\" stroke-linecap=\"round\" style=\"stroke:white;stroke-width:4\"/><line x1=\"391.34\" y1=\"255.0\" x2=\"346.34\" y2=\"177.058\" stroke-linecap=\"round\" style=\"stroke:white;stroke-width:4\"/><line x1=\"346.34\" y1=\"177.058\" x2=\"256.34\" y2=\"177.058\" stroke-linecap=\"round\" style=\"stroke:white;stroke-width:4\"/><line x1=\"256.34\" y1=\"177.058\" x2=\"211.34\" y2=\"255.0\" stroke-linecap=\"round\" style=\"stroke:white;stroke-width:4\"/><line x1=\"211.34\" y1=\"255.0\" x2=\"256.34\" y2=\"332.942\" stroke-linecap=\"round\" style=\"stroke:white;stroke-width:4\"/><line x1=\"256.34\" y1=\"332.942\" x2=\"346.34\" y2=\"332.942\" stroke-linecap=\"round\" style=\"stroke:white;stroke-width:4\"/><line x1=\"346.34\" y1=\"332.942\" x2=\"391.34\" y2=\"255.0\" stroke-linecap=\"round\" style=\"stroke:white;stroke-width:4\"/>\n",
              "        <g visibility=visible transform=\"rotate(330,391.34,255.0) translate(373.34, 237.0)\">\n",
              "<path style=\" stroke:none;fill-rule:evenodd;fill:white;fill-opacity:1;\" d=\"M 18.214844 0.632812 C 16.109375 1.800781 15.011719 4.074219 15.074219 7.132812 L 15.085938 7.652344 L 14.785156 7.496094 C 13.476562 6.824219 11.957031 6.671875 10.40625 7.066406 C 8.46875 7.550781 6.515625 9.15625 4.394531 11.992188 C 3.0625 13.777344 2.679688 14.636719 3.042969 15.027344 L 3.15625 15.152344 L 3.519531 15.152344 C 4.238281 15.152344 4.828125 14.886719 8.1875 13.039062 C 9.386719 12.378906 10.371094 11.839844 10.378906 11.839844 C 10.386719 11.839844 10.355469 11.929688 10.304688 12.035156 C 9.832031 13.09375 9.257812 14.820312 8.96875 16.078125 C 7.914062 20.652344 8.617188 24.53125 11.070312 27.660156 C 11.351562 28.015625 11.363281 27.914062 10.972656 28.382812 C 8.925781 30.84375 7.945312 33.28125 8.238281 35.1875 C 8.289062 35.527344 8.28125 35.523438 8.917969 35.523438 C 10.941406 35.523438 13.074219 34.207031 15.136719 31.6875 C 15.359375 31.417969 15.328125 31.425781 15.5625 31.574219 C 16.292969 32.042969 18.023438 32.964844 18.175781 32.964844 C 18.335938 32.964844 19.941406 32.210938 20.828125 31.71875 C 20.996094 31.625 21.136719 31.554688 21.136719 31.558594 C 21.203125 31.664062 21.898438 32.414062 22.222656 32.730469 C 23.835938 34.300781 25.5625 35.132812 27.582031 35.300781 C 27.90625 35.328125 27.9375 35.308594 28.007812 34.984375 C 28.382812 33.242188 27.625 30.925781 25.863281 28.425781 L 25.542969 27.96875 L 25.699219 27.785156 C 28.945312 23.960938 29.132812 18.699219 26.257812 11.96875 L 26.207031 11.84375 L 27.945312 12.703125 C 31.53125 14.476562 32.316406 14.800781 33.03125 14.800781 C 33.976562 14.800781 33.78125 13.9375 32.472656 12.292969 C 28.519531 7.355469 25.394531 5.925781 21.921875 7.472656 L 21.558594 7.636719 L 21.578125 7.542969 C 21.699219 6.992188 21.761719 5.742188 21.699219 5.164062 C 21.496094 3.296875 20.664062 1.964844 19.003906 0.855469 C 18.480469 0.503906 18.457031 0.5 18.214844 0.632812\"/>\n",
              "</g>\n",
              "      </svg>\n",
              "    "
            ]
          },
          "metadata": {}
        }
      ]
    }
  ]
}