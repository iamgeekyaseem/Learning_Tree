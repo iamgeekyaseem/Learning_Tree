{
  "nbformat": 4,
  "nbformat_minor": 0,
  "metadata": {
    "colab": {
      "name": "T_Learning.ipynb",
      "provenance": [],
      "collapsed_sections": [],
      "authorship_tag": "ABX9TyNYOJ5kS5/ZCCr3Tr+EuDxV",
      "include_colab_link": true
    },
    "kernelspec": {
      "name": "python3",
      "display_name": "Python 3"
    },
    "language_info": {
      "name": "python"
    }
  },
  "cells": [
    {
      "cell_type": "markdown",
      "metadata": {
        "id": "view-in-github",
        "colab_type": "text"
      },
      "source": [
        "<a href=\"https://colab.research.google.com/github/iamgeekyaseem/Learning_Tree/blob/main/T_Learning.ipynb\" target=\"_parent\"><img src=\"https://colab.research.google.com/assets/colab-badge.svg\" alt=\"Open In Colab\"/></a>"
      ]
    },
    {
      "cell_type": "markdown",
      "source": [
        "Ob represent the binary and rest 11001 represent number 25 in binary"
      ],
      "metadata": {
        "id": "GGucOtxhiDVF"
      }
    },
    {
      "cell_type": "code",
      "execution_count": null,
      "metadata": {
        "id": "aYEEqSIlUa_6",
        "colab": {
          "base_uri": "https://localhost:8080/"
        },
        "outputId": "19f76f70-7838-4fc5-f8b5-e744ed43ee3b"
      },
      "outputs": [
        {
          "output_type": "stream",
          "name": "stdout",
          "text": [
            "1001\n"
          ]
        }
      ],
      "source": [
        "x=bin(25)\n",
        "print(x[3:])\n"
      ]
    },
    {
      "cell_type": "markdown",
      "source": [
        "import maths function"
      ],
      "metadata": {
        "id": "Vw7wVA5riV_a"
      }
    },
    {
      "cell_type": "code",
      "source": [
        "#import math\n",
        "#x = math.sqrt(25)\n",
        "#print(math.floor(2.9)) == 2\n",
        "#print(math.ceil(2.9))  == 3\n",
        "#m=math.pow(2,3)   #gives float number\n",
        "#print(int(m))\n",
        "#-----------------------------------------------\n",
        "\n",
        "\n",
        "#import math as m #\"as\" function defiunes the math module as m for short form use\n",
        "##that is also called alies(not sure about the spelling lol)\n",
        "#x=m.sqrt(25)\n",
        "#or\n",
        "#m=math.sqrt(25)\n",
        "#print(x,m)\n",
        "#------------------------------------------------\n",
        "\n",
        "\n",
        "#importing only specific mathematical functions for ex: sqrt and power\n",
        "#from math import sqrt\n",
        "#math.sqrt(25)\n",
        "#math.pow(2,2)\n",
        "help('math')"
      ],
      "metadata": {
        "id": "XKbXMcOAiCdV"
      },
      "execution_count": null,
      "outputs": []
    },
    {
      "cell_type": "code",
      "source": [
        "import sys\n",
        "x=int(sys.argv[1]) #HERE THE FIRST INPUT WILL BE INDEXED AS ZERO\n",
        "y=int(sys.argv[2])\n",
        "z=x**y\n",
        "print(z) #i yhink it will work in command prompt only https://www.youtube.com/watch?v=4OX49nLNPEE&list=PLsyeobzWxl7poL9JTVyndKe62ieoN-MZ3&index=22"
      ],
      "metadata": {
        "id": "08fBAKIOB2DC"
      },
      "execution_count": null,
      "outputs": []
    },
    {
      "cell_type": "markdown",
      "source": [
        "1.print numbers from 1 to 100 except number divisible by 3 and 5\n",
        "2. print hashtag squre pattern"
      ],
      "metadata": {
        "id": "IcD_M2RnKMPt"
      }
    },
    {
      "cell_type": "code",
      "source": [
        "#1-----------------------------------------------\n",
        "#for i in range(1,100):\n",
        " # if i%3==0 or i%5==0:\n",
        "  #  continue\n",
        "  #else:\n",
        "   # print(i)"
      ],
      "metadata": {
        "id": "soTTw71IDC3o"
      },
      "execution_count": null,
      "outputs": []
    },
    {
      "cell_type": "code",
      "source": [
        "#perfect sqr num in 1 to 100\n",
        "for i in range(1,101):\n",
        "  z=i*i\n",
        "  if z>=100:\n",
        "    break\n",
        "  print(z)"
      ],
      "metadata": {
        "id": "QjOMhQiMN1tA"
      },
      "execution_count": null,
      "outputs": []
    },
    {
      "cell_type": "code",
      "source": [
        "#fibonacchi sequence 0 1 1 2 3 5 8 13 21...\n",
        "num=int(input(\"Numbers of terms that you want to print: \"))\n",
        "first=0\n",
        "second=1\n",
        "print(\"The fibonacchi sequence is 0 1 \",end=\"\")\n",
        "for i in range(2,num):\n",
        "  third=first+second\n",
        "  first=second\n",
        "  second=third\n",
        "  print(third, end=\" \")"
      ],
      "metadata": {
        "id": "boZuDRJUE8hK"
      },
      "execution_count": null,
      "outputs": []
    },
    {
      "cell_type": "code",
      "source": [
        "for i in range(5):\n",
        "    for a in range(4-i):\n",
        "        print(a+1+i,end='')\n",
        "    print(\n",
        "a,b=\"ABCD\",\"PQR\"\n",
        "for i in range(4):\n",
        "    print(a[:i+1]+b[i:])"
      ],
      "metadata": {
        "id": "XQ-qt9EK6EA2",
        "colab": {
          "base_uri": "https://localhost:8080/",
          "height": 135
        },
        "outputId": "80c3a578-06f3-45b2-86cd-fbd23f1e5960"
      },
      "execution_count": null,
      "outputs": [
        {
          "output_type": "error",
          "ename": "SyntaxError",
          "evalue": "ignored",
          "traceback": [
            "\u001b[0;36m  File \u001b[0;32m\"<ipython-input-6-781c37efb806>\"\u001b[0;36m, line \u001b[0;32m6\u001b[0m\n\u001b[0;31m    for i in range(4):\u001b[0m\n\u001b[0m                     ^\u001b[0m\n\u001b[0;31mSyntaxError\u001b[0m\u001b[0;31m:\u001b[0m invalid syntax\n"
          ]
        }
      ]
    },
    {
      "cell_type": "code",
      "source": [
        "#sort an array in ascenting order\n",
        "from array import * #'*' means all the functions of array\n",
        "#help('array')\n",
        "nums = array('i', [2,1,3,6,2,9,5,0])\n",
        "#nums.reverse()\n",
        "cums=nums.tolist() #convert array to list\n",
        "cums.sort() #sorts the list\n",
        "print(\"Ascending order\")\n",
        "for i in cums:\n",
        "  print(i,end=\" \")\n",
        "print()\n",
        "#for descending order----------------------------\n",
        "cums.reverse()\n",
        "print(\"Descending order\")\n",
        "for i in cums:\n",
        "  print(i, end=\" \")\n",
        "#for i in nums: #or.... for i in range(len(nums)):"
      ],
      "metadata": {
        "id": "jsQdt2Dy-uME"
      },
      "execution_count": null,
      "outputs": []
    },
    {
      "cell_type": "code",
      "source": [
        "#Taking input from user in an array\n",
        "#first we need to specify the length of the array\n",
        "from array import *\n",
        "n= int(input(\"Length of array: \"))\n",
        "arr=array('i',[])\n",
        "for i in range(n):\n",
        "  arr.append(int(input(\"Enter the next number: \")))\n",
        "print(arr)\n",
        "#now we search for the index number of one of the input number\n",
        "#manual method\n",
        "val=int(input(\"The number you want to know the index of: \"))\n",
        "k=0\n",
        "for e in arr:\n",
        "  if e==val:\n",
        "    print(k)\n",
        "    break\n",
        "  k+=1\n",
        "#by array function\n",
        "print(arr.index(val))"
      ],
      "metadata": {
        "id": "1EYMq_lnUtp4"
      },
      "execution_count": null,
      "outputs": []
    },
    {
      "cell_type": "code",
      "source": [
        "#prime number or not check\n",
        "num=int(input(\"Enter number: \"))\n",
        "for i in range(2,num//2):\n",
        "  if num%i==0:\n",
        "    print(\"Not Prime\")\n",
        "    break\n",
        "else:\n",
        "  print(\"Prime\")"
      ],
      "metadata": {
        "id": "7iK0qM_E_VDK"
      },
      "execution_count": null,
      "outputs": []
    },
    {
      "cell_type": "code",
      "source": [
        "#factorial of a number eg: 8=1.2.4    \n",
        "num=int(input(\"Enter number: \"))\n",
        "print(\"Factorials are: \")\n",
        "for i in range(1,num//2+1):\n",
        "  if num%i==0:\n",
        "    print(i,end=\" \")"
      ],
      "metadata": {
        "id": "13lLlPOQPMWp"
      },
      "execution_count": null,
      "outputs": []
    },
    {
      "cell_type": "code",
      "source": [
        "#prime number b/w 1 to 100\n",
        "for num in range(2, 101):\n",
        "       for i in range(2, num):\n",
        "           if (num % i) == 0:\n",
        "               break\n",
        "       else:\n",
        "           print(num,end=\" \")"
      ],
      "metadata": {
        "id": "S6eYaLPokRMe"
      },
      "execution_count": null,
      "outputs": []
    },
    {
      "cell_type": "code",
      "source": [
        "\n",
        "#print the triangle pattern like arrow\n",
        "for i in range(1,6):\n",
        " for j in range(1,i+1):\n",
        "  print(\"*\", end=\" \")\n",
        " print()\n",
        "    \n",
        "for i in range(5,1,-1):\n",
        "  for j in range(1,i):\n",
        "    print(\"*\", end=\" \")\n",
        "  print()"
      ],
      "metadata": {
        "id": "G2qRNKrMH3Vx"
      },
      "execution_count": null,
      "outputs": []
    },
    {
      "cell_type": "markdown",
      "source": [
        " Print the value of 1/1 + 2^2/2 + 3^3/3 + 4^4/4 +......"
      ],
      "metadata": {
        "id": "ShCypYfnKRQA"
      }
    },
    {
      "cell_type": "code",
      "source": [
        "#assignmemt 01\n",
        "n=int(input(\"Enter some num:  \"))\n",
        "sum,x=0,1\n",
        "while x<=n:\n",
        "  sum=sum+x**x\n",
        "  x=x+1\n",
        "print(sum)"
      ],
      "metadata": {
        "id": "f54uSQrzKLi5"
      },
      "execution_count": null,
      "outputs": []
    },
    {
      "cell_type": "markdown",
      "source": [
        "Print sum of 1-x+x^2-x^3+x^4-x^5...."
      ],
      "metadata": {
        "id": "5TrBKiIaK4Tc"
      }
    },
    {
      "cell_type": "code",
      "source": [
        "#assignmemt 02\n",
        "#value of m(here m=2) in series \n",
        "\n",
        "m=int(input(\"Enter number: \"))\n",
        "n=int(input(\"Upto what nth term you wanna print: \"))\n",
        "sum,x=1,1\n",
        "while x<=n:\n",
        "  sum=sum+(-m)**x\n",
        "  x=x+1\n",
        "print(sum)"
      ],
      "metadata": {
        "id": "4qgrZocRKnY-"
      },
      "execution_count": null,
      "outputs": []
    },
    {
      "cell_type": "code",
      "source": [
        "#reversing digit of array\n",
        "from array import *\n",
        "#n= int(input(\"Length of array: \"))\n",
        "arr=array('i',[1,2,3,4,5,6])\n",
        "#for i in range(n):\n",
        "  #arr.append(int(input(\"Enter the next number: \")))\n",
        "for i in arr:\n",
        "  m=(arr[::-i])\n",
        "  break\n",
        "print(m)"
      ],
      "metadata": {
        "id": "oJMEIF28N-IT"
      },
      "execution_count": null,
      "outputs": []
    },
    {
      "cell_type": "code",
      "source": [
        "!pip install numpy"
      ],
      "metadata": {
        "id": "Ql9Ty9wmFxfl",
        "colab": {
          "base_uri": "https://localhost:8080/"
        },
        "outputId": "65e140ab-f886-4d47-d5ee-b94e4b04be88"
      },
      "execution_count": null,
      "outputs": [
        {
          "output_type": "stream",
          "name": "stdout",
          "text": [
            "Requirement already satisfied: numpy in /usr/local/lib/python3.7/dist-packages (1.21.5)\n"
          ]
        }
      ]
    },
    {
      "cell_type": "code",
      "source": [
        "from numpy import *\n",
        "print(\"-------------------------------------------------------------------------\")\n",
        "arr = array([1,2,3,4,5])\n",
        "print(arr)\n",
        "print(\"-------------------------------------------------------------------------\")\n",
        "arr1 = array([1,2,3,4,5.0]) #explicit conversion\n",
        "print(arr1)\n",
        "print(\"-------------------------------------------------------------------------\")\n",
        "arr2 = array([1,2,3,4,5],float)\n",
        "print(arr2)\n",
        "print(\"-------------------------------------------------------------------------\")\n",
        "arr3 = array([1,2,3,4,5])\n",
        "print(arr3.dtype)\n",
        "print(\"-------------------------------------------------------------------------\")\n",
        "arr4 = linspace(1,5,10) #5 included.... 10 is number of divisions\n",
        "print(arr4)\n",
        "print(\"-------------------------------------------------------------------------\")\n",
        "arr4 = arange(1,50,2) # just like in range\n",
        "print(arr4)\n",
        "print(\"-------------------------------------------------------------------------\")\n",
        "arr5 = logspace(1,5,10) #gap with 1 to the power of 10 to 5 to the power of 10\n",
        "print(arr5)\n",
        "print(\"-------------------------------------------------------------------------\")\n",
        "print('%.2f' %arr5[0]) #2f denotes upto two digit of float number at index number 0\n",
        "arr6 = zeros(5)#5 denotes the sixe of array and by default it is of float\n",
        "print(arr6)\n",
        "print(\"-------------------------------------------------------------------------\")\n",
        "arr7 = ones(5,int)\n",
        "print(arr7)"
      ],
      "metadata": {
        "id": "2BboMJYwGGaZ"
      },
      "execution_count": null,
      "outputs": []
    },
    {
      "cell_type": "code",
      "source": [
        "from numpy import *\n",
        "#numerical operation in numpy\n",
        "arr1= array([1,2,3,4,5])\n",
        "arr2= array([1,4,6,8,2])\n",
        "arr1 = arr1 + 1\n",
        "print(arr1)\n",
        "print(arr2)\n",
        "arr3 = arr1 + arr2\n",
        "print(arr3)\n",
        "print('Joining two array we use \"concatenate\" function')\n",
        "print(concatenate([arr1,arr2]))"
      ],
      "metadata": {
        "id": "voQbrZ77dkCY"
      },
      "execution_count": null,
      "outputs": []
    },
    {
      "cell_type": "code",
      "source": [
        "#functions in numpy array\n",
        "arr1= array([1,2,3,4,5,5,5,90,30])\n",
        "print(sin(arr1)) #'''sin/cos/log/sqrt/sum(sum of all element of the same array/\n",
        "                 #min/max/sort/unique\n",
        "print(sort(arr1))\n",
        "print(unique(arr1))"
      ],
      "metadata": {
        "id": "W-Uyo3ZXf4MO"
      },
      "execution_count": null,
      "outputs": []
    },
    {
      "cell_type": "code",
      "source": [
        "#copying an array\n"
      ],
      "metadata": {
        "id": "XRQgwYMJiBj8"
      },
      "execution_count": null,
      "outputs": []
    },
    {
      "cell_type": "code",
      "source": [
        "#functions\n",
        "def add(a,b): #a,b are arguments (1. Formal Arguments)\n",
        "  c=a+b\n",
        "  print(c)\n",
        "add(5,6) #5,6 are 2. Actual Arguments"
      ],
      "metadata": {
        "id": "9AUcOU39zCuq"
      },
      "execution_count": null,
      "outputs": []
    },
    {
      "cell_type": "code",
      "source": [
        "'''lets say i want to add with multiple arguments i'll use '*' in arguments\n",
        "which while passing the arguments will convert it into tuples'''\n",
        "def add(*a):\n",
        "  c=0\n",
        "  for i in a:\n",
        "    c=c+i\n",
        "  return c\n",
        "add(5,6,8,581)"
      ],
      "metadata": {
        "id": "QuJYcCyXzt-7"
      },
      "execution_count": null,
      "outputs": []
    },
    {
      "cell_type": "code",
      "source": [
        "''' there is no pass by value or pass by reference in python'''\n",
        "def update(x):\n",
        "  x=8\n",
        "  print(id(x))\n",
        "  print(\"x\", x)\n",
        "update(10)\n",
        "a=11\n",
        "print(id(a))\n",
        "update(a)\n",
        "print(id(a))"
      ],
      "metadata": {
        "id": "4nJidrzT2vjk"
      },
      "execution_count": null,
      "outputs": []
    },
    {
      "cell_type": "code",
      "source": [
        "''' lets say i don't know the sequence in the def '''\n",
        "def person(name,age=18): \n",
        "  print(\"name = \",name)\n",
        "  print(\"age = \",age)\n",
        "\n",
        "person(\"aseem\", 19) \n",
        "person(19, \"aseem\") #sequence is wrong here\n",
        "'''if i dont know the sequence then i can use keywords to\n",
        "exactly define to a particular argument'''\n",
        "person(name=\"Aseem\", age=19)\n",
        "#lets say i didnt passed the 2nd argument i.e age it\n",
        "#will automatically take that by default if its written in defs arguments\n",
        "person(\"aseem\")"
      ],
      "metadata": {
        "id": "X0VuC1Z034WK"
      },
      "execution_count": null,
      "outputs": []
    },
    {
      "cell_type": "code",
      "source": [
        "#making 1d 2d 3d matrices or determinants in array\n",
        "from numpy import *\n",
        "arr1= array([\n",
        "            [1,2,3,4,5,6],\n",
        "            [2,3,5,6,3,5]\n",
        "            ])\n",
        "arr2=arr1.flatten()#2d to 1d array\n",
        "arr3=arr1.reshape(3,4)#changes the 2d array row and column\n",
        "arr4=arr1.reshape(2,2,3) #2 2d array and each 2d array having 2 rows and 3 columns\n",
        "m=matrix(arr1) #gives matrix\n",
        "print(arr1)\n",
        "print(arr1.dtype)#type of array\n",
        "print(arr1.ndim)# no. of dimention/ ranking\n",
        "print(arr1.shape)#shape of 2d array\n",
        "print(arr1.size)#row x column\n",
        "print(arr2)\n",
        "print(arr3)\n",
        "print(arr4)\n",
        "print(m)# now its matrix (loks same as 2d array) we can perform various matrix operations"
      ],
      "metadata": {
        "id": "-ERB6Emr6Xzj"
      },
      "execution_count": null,
      "outputs": []
    },
    {
      "cell_type": "code",
      "source": [
        "#concept of global and local variable\n",
        "a = 10\n",
        "def something():\n",
        "  #global a #makes\n",
        "  a=15\n",
        "  print(\"in func\", a)\n",
        "\n",
        "something()\n",
        "print('outer', a)"
      ],
      "metadata": {
        "id": "tkwJVqjnnc20"
      },
      "execution_count": null,
      "outputs": []
    },
    {
      "cell_type": "code",
      "source": [
        "lst=[]\n",
        "if __name__ == '__main__':\n",
        "    for _ in range(int(input())):\n",
        "        name = input()\n",
        "        score = float(input())\n",
        "        lst.append([name,score])\n",
        "print(max(lst))"
      ],
      "metadata": {
        "id": "B3GCoN4bSU-f"
      },
      "execution_count": null,
      "outputs": []
    },
    {
      "cell_type": "code",
      "source": [
        "#OOPs\n",
        "class Employee:\n",
        "    no_of_leaves = 8\n",
        "    pass\n",
        "\n",
        "harry = Employee()\n",
        "rohan = Employee()\n",
        "\n",
        "harry.name = \"Harry\"\n",
        "harry.salary = 455\n",
        "harry.role = \"Instructor\"\n",
        "\n",
        "rohan.name = \"Rohan\"\n",
        "rohan.salary = 4554\n",
        "rohan.role = \"Student\"\n",
        "\n",
        "print(Employee.no_of_leaves)\n",
        "print(Employee.__dict__)\n",
        "Employee.no_of_leaves = 9\n",
        "print(Employee.__dict__)\n",
        "print(Employee.no_of_leaves)\n"
      ],
      "metadata": {
        "id": "l05IuGiphxMU"
      },
      "execution_count": null,
      "outputs": []
    },
    {
      "cell_type": "code",
      "source": [
        "#Decorator \n",
        "def dec1(func1):\n",
        "  def nowexec():\n",
        "    print('Before executing the func1')\n",
        "    func1()\n",
        "    print(\"After executing the func1\")\n",
        "    return nowexec\n",
        "@dec1\n",
        "def aseem():\n",
        "  print(\"I am Aseem\")\n",
        "\n",
        "aseem()\n"
      ],
      "metadata": {
        "colab": {
          "base_uri": "https://localhost:8080/",
          "height": 208
        },
        "id": "221q275cuCrr",
        "outputId": "09d5375c-77d3-47f6-dbe4-7fec0d7506b6"
      },
      "execution_count": null,
      "outputs": [
        {
          "output_type": "error",
          "ename": "TypeError",
          "evalue": "ignored",
          "traceback": [
            "\u001b[0;31m---------------------------------------------------------------------------\u001b[0m",
            "\u001b[0;31mTypeError\u001b[0m                                 Traceback (most recent call last)",
            "\u001b[0;32m<ipython-input-16-450ac44c3aa6>\u001b[0m in \u001b[0;36m<module>\u001b[0;34m()\u001b[0m\n\u001b[1;32m     12\u001b[0m   \u001b[0mprint\u001b[0m\u001b[0;34m(\u001b[0m\u001b[0;34m\"I am Aseem\"\u001b[0m\u001b[0;34m)\u001b[0m\u001b[0;34m\u001b[0m\u001b[0;34m\u001b[0m\u001b[0m\n\u001b[1;32m     13\u001b[0m \u001b[0;34m\u001b[0m\u001b[0m\n\u001b[0;32m---> 14\u001b[0;31m \u001b[0maseem\u001b[0m\u001b[0;34m(\u001b[0m\u001b[0;34m)\u001b[0m\u001b[0;34m\u001b[0m\u001b[0;34m\u001b[0m\u001b[0m\n\u001b[0m",
            "\u001b[0;31mTypeError\u001b[0m: 'NoneType' object is not callable"
          ]
        }
      ]
    },
    {
      "cell_type": "code",
      "source": [
        "def aseem():\n",
        "  print(\"I am Aseem\")\n",
        "aseem()"
      ],
      "metadata": {
        "colab": {
          "base_uri": "https://localhost:8080/"
        },
        "id": "fLimq8jwLyu9",
        "outputId": "dc79dee9-c945-4346-f1a5-0724d7e5a3d0"
      },
      "execution_count": null,
      "outputs": [
        {
          "output_type": "stream",
          "name": "stdout",
          "text": [
            "I am Aseem\n"
          ]
        }
      ]
    },
    {
      "cell_type": "code",
      "source": [
        "class Employee:\n",
        "  def __init__(self, aname, asalary, arole): #\"Constructor\"  that helps to give arguments to Employee in harry.Employee(*arguments*)\n",
        "    self.name = aname\n",
        "    self.salary = asalary\n",
        "    self.role = arole                 \n",
        "  def printDetails(self):\n",
        "    return f\"Name is {self.name}. Salaray is {self.salary}. Role is {self.role}\"\n",
        "harry = Employee(\"Harry\", 455, \"Instructor\")\n",
        "larry = Employee(\"Larry\", 125, \"Manager\")\n",
        "\n",
        "print(harry.salary)"
      ],
      "metadata": {
        "id": "Ib6SLBvQIqhj"
      },
      "execution_count": null,
      "outputs": []
    },
    {
      "cell_type": "code",
      "source": [
        "class Employee:\n",
        "  leaves=10\n",
        "  def __init__(self, aname, asalary, arole):\n",
        "    self.name=aname\n",
        "    self.salary=asalary\n",
        "    self.role=arole\n",
        "  def printDetails(self):\n",
        "    return f\"Name {self.name}. Salary {self.salary}. Role {self.role}\"\n",
        "  @classmethod\n",
        "  def change_leaves(cls, newleaves):\n",
        "    cls.leaves=newleaves\n",
        "\n",
        "harry=Employee(\"Harry\", 9999, \"Instructor\")\n",
        "\n",
        "#print(harry.printDetails())\n",
        "harry.change_leaves(30)\n",
        "print(harry.leaves())\n",
        "\n"
      ],
      "metadata": {
        "colab": {
          "base_uri": "https://localhost:8080/",
          "height": 226
        },
        "id": "0bDeDiYkL6p3",
        "outputId": "1ff35362-8045-4012-9d27-10eab88402a3"
      },
      "execution_count": null,
      "outputs": [
        {
          "output_type": "error",
          "ename": "TypeError",
          "evalue": "ignored",
          "traceback": [
            "\u001b[0;31m---------------------------------------------------------------------------\u001b[0m",
            "\u001b[0;31mTypeError\u001b[0m                                 Traceback (most recent call last)",
            "\u001b[0;32m<ipython-input-34-2c467ccd9d66>\u001b[0m in \u001b[0;36m<module>\u001b[0;34m()\u001b[0m\n\u001b[1;32m     15\u001b[0m \u001b[0;31m#print(harry.printDetails())\u001b[0m\u001b[0;34m\u001b[0m\u001b[0;34m\u001b[0m\u001b[0;34m\u001b[0m\u001b[0m\n\u001b[1;32m     16\u001b[0m \u001b[0mharry\u001b[0m\u001b[0;34m.\u001b[0m\u001b[0mchange_leaves\u001b[0m\u001b[0;34m(\u001b[0m\u001b[0;36m30\u001b[0m\u001b[0;34m)\u001b[0m\u001b[0;34m\u001b[0m\u001b[0;34m\u001b[0m\u001b[0m\n\u001b[0;32m---> 17\u001b[0;31m \u001b[0mprint\u001b[0m\u001b[0;34m(\u001b[0m\u001b[0mharry\u001b[0m\u001b[0;34m.\u001b[0m\u001b[0mleaves\u001b[0m\u001b[0;34m(\u001b[0m\u001b[0;34m)\u001b[0m\u001b[0;34m)\u001b[0m\u001b[0;34m\u001b[0m\u001b[0;34m\u001b[0m\u001b[0m\n\u001b[0m\u001b[1;32m     18\u001b[0m \u001b[0;34m\u001b[0m\u001b[0m\n",
            "\u001b[0;31mTypeError\u001b[0m: 'int' object is not callable"
          ]
        }
      ]
    },
    {
      "cell_type": "code",
      "source": [
        "class Employee:\n",
        "    no_of_leaves = 8\n",
        "\n",
        "    def __init__(self, aname, asalary, arole):\n",
        "        self.name = aname\n",
        "        self.salary = asalary\n",
        "        self.role = arole\n",
        "\n",
        "    def printdetails(self):\n",
        "        return f\"The Name is {self.name}. Salary is {self.salary} and role is {self.role}\"\n",
        "\n",
        "    @classmethod\n",
        "    def change_leaves(cls, newleaves):\n",
        "        cls.no_of_leaves = newleaves\n",
        "        "
      ],
      "metadata": {
        "id": "zfXftS9HSJrc"
      },
      "execution_count": null,
      "outputs": []
    }
  ]
}